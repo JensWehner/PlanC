{
  "nbformat": 4,
  "nbformat_minor": 0,
  "metadata": {
    "colab": {
      "name": "GPU_course.ipynb",
      "private_outputs": true,
      "provenance": [],
      "collapsed_sections": [],
      "authorship_tag": "ABX9TyMSxJtNXQfz4tK1msSA+/Js",
      "include_colab_link": true
    },
    "kernelspec": {
      "name": "python3",
      "display_name": "Python 3"
    },
    "language_info": {
      "name": "python"
    },
    "accelerator": "GPU"
  },
  "cells": [
    {
      "cell_type": "markdown",
      "metadata": {
        "id": "view-in-github",
        "colab_type": "text"
      },
      "source": [
        "<a href=\"https://colab.research.google.com/github/JensWehner/PlanC/blob/main/GPU_course.ipynb\" target=\"_parent\"><img src=\"https://colab.research.google.com/assets/colab-badge.svg\" alt=\"Open In Colab\"/></a>"
      ]
    },
    {
      "cell_type": "code",
      "metadata": {
        "id": "9jla5scMp9Vy"
      },
      "source": [
        "!pip install cupy-cuda110"
      ],
      "execution_count": null,
      "outputs": []
    },
    {
      "cell_type": "code",
      "metadata": {
        "id": "MBe34Wj-qwjU"
      },
      "source": [
        "!pip install numba"
      ],
      "execution_count": null,
      "outputs": []
    },
    {
      "cell_type": "code",
      "metadata": {
        "id": "kZRNhePmq3UM"
      },
      "source": [
        "import cupy as cp"
      ],
      "execution_count": null,
      "outputs": []
    },
    {
      "cell_type": "code",
      "metadata": {
        "id": "MIiDfC7Gq5ds"
      },
      "source": [
        "import numpy as np"
      ],
      "execution_count": null,
      "outputs": []
    },
    {
      "cell_type": "code",
      "metadata": {
        "id": "2Br-0PXmrgru"
      },
      "source": [
        "import numba as nb"
      ],
      "execution_count": null,
      "outputs": []
    },
    {
      "cell_type": "code",
      "metadata": {
        "id": "graB3tCeriCN"
      },
      "source": [
        "primary_unit = np.zeros([16,16])"
      ],
      "execution_count": null,
      "outputs": []
    },
    {
      "cell_type": "code",
      "metadata": {
        "id": "jE-tU4gEr9Ed"
      },
      "source": [
        "primary_unit[8,8]=1"
      ],
      "execution_count": null,
      "outputs": []
    },
    {
      "cell_type": "code",
      "metadata": {
        "id": "F-c3hy5lsJzO"
      },
      "source": [
        "deltas=np.tile(primary_unit,(128,128))"
      ],
      "execution_count": null,
      "outputs": []
    },
    {
      "cell_type": "code",
      "metadata": {
        "id": "xzqBIunssTsO"
      },
      "source": [
        "import matplotlib.pyplot as plt\n",
        "%matplotlib inline"
      ],
      "execution_count": null,
      "outputs": []
    },
    {
      "cell_type": "code",
      "metadata": {
        "id": "f7SCVH23sYW1"
      },
      "source": [
        "plt.imshow(deltas[0:64,0:64])\n",
        "plt.show()"
      ],
      "execution_count": null,
      "outputs": []
    },
    {
      "cell_type": "code",
      "metadata": {
        "id": "vv88K9-3sgrf"
      },
      "source": [
        "x,y=np.meshgrid(np.linspace(-2,2,16),np.linspace(-2,2,16))\n",
        "distsq= x**2 + y**2\n",
        "gauss= np.exp(-distsq)"
      ],
      "execution_count": null,
      "outputs": []
    },
    {
      "cell_type": "code",
      "metadata": {
        "id": "l9zp7Ps-tKHg"
      },
      "source": [
        "plt.imshow(gauss)\n",
        "plt.show()"
      ],
      "execution_count": null,
      "outputs": []
    },
    {
      "cell_type": "code",
      "metadata": {
        "id": "5WD8_gvDtU2_"
      },
      "source": [
        "from scipy.signal import convolve2d as convolve2d_cpu"
      ],
      "execution_count": null,
      "outputs": []
    },
    {
      "cell_type": "code",
      "metadata": {
        "id": "pvo07Rj1tw4o"
      },
      "source": [
        "convolved_image_on_cpu=convolve2d_cpu(deltas,gauss)"
      ],
      "execution_count": null,
      "outputs": []
    },
    {
      "cell_type": "code",
      "metadata": {
        "id": "DKWEctb2t3UR"
      },
      "source": [
        "plt.imshow(convolved_image_on_cpu[0:64,0:64])\n",
        "plt.show()"
      ],
      "execution_count": null,
      "outputs": []
    },
    {
      "cell_type": "code",
      "metadata": {
        "id": "NFVh6DzQt7ri"
      },
      "source": [
        "%timeit convolve2d_cpu(deltas,gauss)"
      ],
      "execution_count": null,
      "outputs": []
    },
    {
      "cell_type": "code",
      "metadata": {
        "id": "at0VYMHiuSkh"
      },
      "source": [
        "deltas_gpu=cp.asarray(deltas)"
      ],
      "execution_count": null,
      "outputs": []
    },
    {
      "cell_type": "code",
      "metadata": {
        "id": "IGDNYPUrvRoD"
      },
      "source": [
        "gauss_gpu=cp.asarray(gauss)"
      ],
      "execution_count": null,
      "outputs": []
    },
    {
      "cell_type": "code",
      "metadata": {
        "id": "_2DOEy2yvUpy"
      },
      "source": [
        "from cupyx.scipy.signal import convolve2d as convolve2d_gpu\n",
        "image_convolved_on_gpu =convolve2d_gpu(deltas_gpu,gauss_gpu)"
      ],
      "execution_count": null,
      "outputs": []
    },
    {
      "cell_type": "code",
      "metadata": {
        "id": "ffLRAiOEvZTD"
      },
      "source": [
        "%timeit convolve2d_gpu(deltas_gpu,gauss_gpu)"
      ],
      "execution_count": null,
      "outputs": []
    },
    {
      "cell_type": "code",
      "metadata": {
        "id": "A7pUYiShv50E"
      },
      "source": [
        "np.allclose(convolved_image_on_cpu,image_convolved_on_gpu)"
      ],
      "execution_count": null,
      "outputs": []
    },
    {
      "cell_type": "code",
      "metadata": {
        "id": "zhxr2L_lxJHF"
      },
      "source": [
        "image_convolved_on_gpu_copied_back = cp.asnumpy(image_convolved_on_gpu)"
      ],
      "execution_count": null,
      "outputs": []
    },
    {
      "cell_type": "code",
      "metadata": {
        "id": "kbZwBpt4xXC2"
      },
      "source": [
        "plt.imshow(image_convolved_on_gpu_copied_back[0:64,0:64])\n",
        "plt.show()"
      ],
      "execution_count": null,
      "outputs": []
    },
    {
      "cell_type": "code",
      "metadata": {
        "id": "mZ5_DgR0xax8"
      },
      "source": [
        "image_convolved_on_gpu.dtype"
      ],
      "execution_count": null,
      "outputs": []
    },
    {
      "cell_type": "code",
      "metadata": {
        "id": "YM4SyASB0QBP"
      },
      "source": [
        "convolved_image_on_cpu.dtype"
      ],
      "execution_count": null,
      "outputs": []
    },
    {
      "cell_type": "code",
      "metadata": {
        "id": "hPYRQDoN2-6m"
      },
      "source": [
        ""
      ],
      "execution_count": null,
      "outputs": []
    }
  ]
}